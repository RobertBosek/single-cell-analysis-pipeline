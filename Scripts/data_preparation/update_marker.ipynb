{
 "cells": [
  {
   "cell_type": "markdown",
   "metadata": {},
   "source": [
    "This script updates the marker data file from CellMarker database.\n",
    "\n",
    "First the file with all marker from single cell experiments is downloaded.\n",
    "\n",
    "Further steps are the selection of species and tissue type and reducing the information to only the columns needed.\n",
    "\n",
    "At this moment the selection of species and tissue type is done for **human** **peripheral blood mononuclear cells**."
   ]
  },
  {
   "cell_type": "code",
   "execution_count": 1,
   "metadata": {},
   "outputs": [],
   "source": [
    "import urllib\n",
    "import pandas as pd\n",
    "\n",
    "# set path variables for url and target files\n",
    "## for more flexibility let these variables get passed with function calls\n",
    "\n",
    "species = 'Human'\n",
    "tissue = 'Peripheral blood'\n",
    "marker_columns = ['cellName', 'cellMarker']\n",
    "\n",
    "url = \"http://bio-bigdata.hrbmu.edu.cn/CellMarker/download/Single_cell_markers.txt\"\n",
    "marker = \"../../Data/marker/Single_cell_markers.txt\"\n",
    "pb_marker = \"../../Data/marker/pbmc_marker.csv\""
   ]
  },
  {
   "cell_type": "code",
   "execution_count": 2,
   "metadata": {},
   "outputs": [],
   "source": [
    "# request the database file and store it in target marker filepath\n",
    "\n",
    "# urllib.request.urlretrieve(url, marker)"
   ]
  },
  {
   "cell_type": "code",
   "execution_count": 3,
   "metadata": {},
   "outputs": [],
   "source": [
    "# read the database file as pandas dataframe \n",
    "\n",
    "marker_data = pd.read_csv(marker, sep=\"\\t\")"
   ]
  },
  {
   "cell_type": "code",
   "execution_count": 4,
   "metadata": {
    "scrolled": true
   },
   "outputs": [],
   "source": [
    "# select species\n",
    "human_marker = marker_data[marker_data['speciesType'] == species]\n",
    "blood_marker = human_marker[human_marker['tissueType'] == tissue]\n",
    "blood_markers = pd.DataFrame(blood_marker, columns = marker_columns)\n",
    "blood_markers.to_csv(pb_marker, index=None, header=True)"
   ]
  },
  {
   "cell_type": "code",
   "execution_count": 6,
   "metadata": {},
   "outputs": [
    {
     "data": {
      "text/plain": [
       "Brain                          31\n",
       "Peripheral blood               28\n",
       "Fetal gonad                    13\n",
       "Lung                           12\n",
       "Pancreas                       11\n",
       "Placenta                       11\n",
       "Large intestine                11\n",
       "Liver                          10\n",
       "Blood                           9\n",
       "Embryo                          8\n",
       "Small intestine                 7\n",
       "Undefined                       6\n",
       "Fetal liver                     6\n",
       "Embryoid body                   6\n",
       "Embryonic prefrontal cortex     6\n",
       "Kidney                          6\n",
       "Stomach                         5\n",
       "Esophagus                       4\n",
       "Ovary                           4\n",
       "Fetal kidney                    4\n",
       "Pancreatic islet                3\n",
       "Breast                          3\n",
       "Umbilical cord blood            3\n",
       "Muscle                          2\n",
       "Testis                          2\n",
       "Embryonic brain                 1\n",
       "Heart                           1\n",
       "Bone marrow                     1\n",
       "Foreskin                        1\n",
       "Name: tissueType, dtype: int64"
      ]
     },
     "execution_count": 6,
     "metadata": {},
     "output_type": "execute_result"
    }
   ],
   "source": [
    "# overview of existing tissue type for human\n",
    "\n",
    "human_marker['tissueType'].value_counts()"
   ]
  }
 ],
 "metadata": {
  "kernelspec": {
   "display_name": "Py_sc",
   "language": "python",
   "name": "sc"
  },
  "language_info": {
   "codemirror_mode": {
    "name": "ipython",
    "version": 3
   },
   "file_extension": ".py",
   "mimetype": "text/x-python",
   "name": "python",
   "nbconvert_exporter": "python",
   "pygments_lexer": "ipython3",
   "version": "3.6.9"
  }
 },
 "nbformat": 4,
 "nbformat_minor": 2
}
