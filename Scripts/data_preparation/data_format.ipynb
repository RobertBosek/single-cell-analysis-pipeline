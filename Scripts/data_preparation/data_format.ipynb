{
 "cells": [
  {
   "cell_type": "markdown",
   "metadata": {},
   "source": [
    "This script takes as input the files resulting from R-script for profile annotation and subsampling.\n",
    "The result of these scripts are separate .csv fiels containing expression values and annotation of corresponding profiles.\n",
    "Following these .csv files are combined and annotation information is improved.\n",
    "Finally the input files are stored at corresponding data folders in h5 file format, ready to use in the pipeline."
   ]
  },
  {
   "cell_type": "code",
   "execution_count": 1,
   "metadata": {},
   "outputs": [],
   "source": [
    "import scanpy as sc\n",
    "import pandas as pd\n",
    "\n",
    "dp_all = \"all/\"\n",
    "dp_downsample = \"downsampled/\"\n",
    "dp = \"../../Data/\"\n",
    "\n",
    "datapath = dp + dp_all\n",
    "# uncomment next line to format downsampled data\n",
    "#datapath = dp + dp_downsample"
   ]
  },
  {
   "cell_type": "code",
   "execution_count": 2,
   "metadata": {
    "scrolled": true
   },
   "outputs": [
    {
     "name": "stderr",
     "output_type": "stream",
     "text": [
      "Observation names are not unique. To make them unique, call `.obs_names_make_unique`.\n",
      "Variable names are not unique. To make them unique, call `.var_names_make_unique`.\n"
     ]
    }
   ],
   "source": [
    "# data comes from R processing and thus is stored with genes as rows and observations as colums\n",
    "# scanpy expects genes as colums and observations as rows\n",
    "data = sc.read(datapath + \"data.csv\", cache=True)\n",
    "data = data.transpose()"
   ]
  },
  {
   "cell_type": "code",
   "execution_count": 3,
   "metadata": {},
   "outputs": [
    {
     "name": "stderr",
     "output_type": "stream",
     "text": [
      "AnnData expects string indices for some functionality, but your first two indices are: RangeIndex(start=0, stop=2, step=1). \n"
     ]
    }
   ],
   "source": [
    "annotation = pd.read_csv(datapath + \"pheno.csv\", sep=\",\")\n",
    "annotation['patient.sample'] = [str(num) for num in list(annotation.patient)]\n",
    "annotation.patient = [str(num)[0] for num in list(annotation.patient)]\n",
    "annotation.cluster = [str(cl) for cl in list(annotation.cluster)]\n",
    "data.obs = annotation"
   ]
  },
  {
   "cell_type": "code",
   "execution_count": 4,
   "metadata": {},
   "outputs": [],
   "source": [
    "# adjusting .var format\n",
    "varr = data.var\n",
    "varr['gene_symbol'] = list(data.var.index)\n",
    "varr.set_index('gene_symbol', inplace=True)\n",
    "data.var = varr\n",
    "data.var['gene_id'] = list(varr.index)"
   ]
  },
  {
   "cell_type": "code",
   "execution_count": 5,
   "metadata": {},
   "outputs": [
    {
     "name": "stderr",
     "output_type": "stream",
     "text": [
      "... storing 'patient' as categorical\n",
      "... storing 'cluster' as categorical\n",
      "... storing 'cell_type' as categorical\n",
      "... storing 'patient.sample' as categorical\n",
      "... storing 'gene_id' as categorical\n"
     ]
    }
   ],
   "source": [
    "data.var_names_make_unique()\n",
    "data.write(datapath + \"data.h5ad\")"
   ]
  }
 ],
 "metadata": {
  "kernelspec": {
   "display_name": "Py_sc",
   "language": "python",
   "name": "sc"
  },
  "language_info": {
   "codemirror_mode": {
    "name": "ipython",
    "version": 3
   },
   "file_extension": ".py",
   "mimetype": "text/x-python",
   "name": "python",
   "nbconvert_exporter": "python",
   "pygments_lexer": "ipython3",
   "version": "3.6.9"
  }
 },
 "nbformat": 4,
 "nbformat_minor": 2
}
